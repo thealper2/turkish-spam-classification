{
 "cells": [
  {
   "cell_type": "code",
   "execution_count": 243,
   "id": "7583990f",
   "metadata": {},
   "outputs": [
    {
     "name": "stderr",
     "output_type": "stream",
     "text": [
      "[nltk_data] Downloading package punkt to /root/nltk_data...\n",
      "[nltk_data]   Package punkt is already up-to-date!\n",
      "[nltk_data] Downloading package stopwords to /root/nltk_data...\n",
      "[nltk_data]   Package stopwords is already up-to-date!\n"
     ]
    }
   ],
   "source": [
    "import nltk\n",
    "import string\n",
    "import warnings\n",
    "import nltk\n",
    "import joblib\n",
    "import pickle\n",
    "import matplotlib.pyplot as plt\n",
    "import pandas as pd\n",
    "import numpy as np\n",
    "from nltk.corpus import stopwords\n",
    "from sklearn.feature_extraction.text import CountVectorizer, TfidfVectorizer\n",
    "from sklearn.tree import DecisionTreeClassifier \n",
    "from sklearn.model_selection import learning_curve, train_test_split, cross_val_score, GridSearchCV\n",
    "from sklearn.preprocessing import LabelEncoder\n",
    "from xgboost import XGBClassifier\n",
    "from sklearn.metrics import accuracy_score, classification_report\n",
    "from sklearn.linear_model import LogisticRegression\n",
    "from sklearn.tree import DecisionTreeClassifier\n",
    "from sklearn.neighbors import KNeighborsClassifier\n",
    "from sklearn.ensemble import RandomForestClassifier\n",
    "from sklearn.svm import SVC\n",
    "\n",
    "nltk.download(\"punkt\")\n",
    "nltk.download(\"stopwords\")\n",
    "\n",
    "warnings.filterwarnings('ignore')\n",
    "%matplotlib inline"
   ]
  },
  {
   "cell_type": "code",
   "execution_count": 227,
   "id": "dba24506",
   "metadata": {},
   "outputs": [
    {
     "data": {
      "text/html": [
       "<div>\n",
       "<style scoped>\n",
       "    .dataframe tbody tr th:only-of-type {\n",
       "        vertical-align: middle;\n",
       "    }\n",
       "\n",
       "    .dataframe tbody tr th {\n",
       "        vertical-align: top;\n",
       "    }\n",
       "\n",
       "    .dataframe thead th {\n",
       "        text-align: right;\n",
       "    }\n",
       "</style>\n",
       "<table border=\"1\" class=\"dataframe\">\n",
       "  <thead>\n",
       "    <tr style=\"text-align: right;\">\n",
       "      <th></th>\n",
       "      <th>text</th>\n",
       "      <th>label</th>\n",
       "    </tr>\n",
       "  </thead>\n",
       "  <tbody>\n",
       "    <tr>\n",
       "      <th>0</th>\n",
       "      <td>125 lira</td>\n",
       "      <td>Normal</td>\n",
       "    </tr>\n",
       "    <tr>\n",
       "      <th>1</th>\n",
       "      <td>Baskanin aksam toplantısi fenaymis :)</td>\n",
       "      <td>Normal</td>\n",
       "    </tr>\n",
       "    <tr>\n",
       "      <th>2</th>\n",
       "      <td>Bilal yalçnlara ne zaman gidiyoruz?</td>\n",
       "      <td>Normal</td>\n",
       "    </tr>\n",
       "    <tr>\n",
       "      <th>3</th>\n",
       "      <td>BiP ile mesajlarimi aninda, daha eglenceli gon...</td>\n",
       "      <td>Spam</td>\n",
       "    </tr>\n",
       "    <tr>\n",
       "      <th>4</th>\n",
       "      <td>DIGITURKTEN FIRSAT! SiZE OZEL YIL SONUNA KADAR...</td>\n",
       "      <td>Spam</td>\n",
       "    </tr>\n",
       "  </tbody>\n",
       "</table>\n",
       "</div>"
      ],
      "text/plain": [
       "                                                text   label\n",
       "0                                           125 lira  Normal\n",
       "1              Baskanin aksam toplantısi fenaymis :)  Normal\n",
       "2                Bilal yalçnlara ne zaman gidiyoruz?  Normal\n",
       "3  BiP ile mesajlarimi aninda, daha eglenceli gon...    Spam\n",
       "4  DIGITURKTEN FIRSAT! SiZE OZEL YIL SONUNA KADAR...    Spam"
      ]
     },
     "execution_count": 227,
     "metadata": {},
     "output_type": "execute_result"
    }
   ],
   "source": [
    "df = pd.read_csv('TurkishSMSCollection.csv', sep=\";\")\n",
    "df = df[[\"Message\", \"GroupText\"]]\n",
    "df.rename(columns={\"Message\": \"text\", \"GroupText\": \"label\"}, inplace=True)\n",
    "df.head()"
   ]
  },
  {
   "cell_type": "code",
   "execution_count": 228,
   "id": "8f695321",
   "metadata": {},
   "outputs": [
    {
     "data": {
      "text/plain": [
       "Spam      2536\n",
       "Normal    2215\n",
       "Name: label, dtype: int64"
      ]
     },
     "execution_count": 228,
     "metadata": {},
     "output_type": "execute_result"
    }
   ],
   "source": [
    "df['label'].value_counts()"
   ]
  },
  {
   "cell_type": "code",
   "execution_count": 225,
   "id": "9a805469",
   "metadata": {},
   "outputs": [],
   "source": [
    "def find_length(text):\n",
    "    return len(text)"
   ]
  },
  {
   "cell_type": "code",
   "execution_count": 229,
   "id": "b7874a8b",
   "metadata": {},
   "outputs": [
    {
     "data": {
      "text/plain": [
       "array([[<AxesSubplot: title={'center': 'length'}>]], dtype=object)"
      ]
     },
     "execution_count": 229,
     "metadata": {},
     "output_type": "execute_result"
    },
    {
     "data": {
      "image/png": "[encoded data removed]",
      "text/plain": [
       "<Figure size 1000x700 with 1 Axes>"
      ]
     },
     "metadata": {},
     "output_type": "display_data"
    }
   ],
   "source": [
    "df['length'] = df['text'].apply(find_length)\n",
    "df.hist(column='length', figsize=(10,7))"
   ]
  },
  {
   "cell_type": "code",
   "execution_count": 230,
   "id": "d2ffff8e",
   "metadata": {},
   "outputs": [],
   "source": [
    "stopwords_list = stopwords.words('turkish')\n",
    "\n",
    "def preprocess_text(text):\n",
    "    text = text.translate(str.maketrans(\"\", \"\", string.punctuation))\n",
    "    words = text.split()\n",
    "    words = [word for word in words if not word in stopwords_list]\n",
    "    text = \" \".join(words)\n",
    "    return text"
   ]
  },
  {
   "cell_type": "code",
   "execution_count": 231,
   "id": "3495d6e3",
   "metadata": {},
   "outputs": [],
   "source": [
    "df['text'] = df['text'].apply(preprocess_text)"
   ]
  },
  {
   "cell_type": "code",
   "execution_count": 143,
   "id": "9212d6bf",
   "metadata": {},
   "outputs": [
    {
     "name": "stderr",
     "output_type": "stream",
     "text": [
      "[nltk_data] Downloading package punkt to /root/nltk_data...\n",
      "[nltk_data]   Package punkt is already up-to-date!\n"
     ]
    }
   ],
   "source": [
    "def word_freq(CATEGORY, df):\n",
    "    freq_df = df[df['label'] == CATEGORY]\n",
    "    freq_words = freq_df['text'].tolist()\n",
    "    freq_words = [i.lower() for i in freq_words]\n",
    "    freq_punc = []\n",
    "    for o in freq_words:\n",
    "        freq_punc += nltk.word_tokenize(o)\n",
    "    freq_punc = [o for o in freq_punc if o not in string.punctuation]\n",
    "    freq_freq = Counter(freq_punc)\n",
    "    freq_top = freq_freq.most_common(15)\n",
    "    \n",
    "    words = [word for word, _ in freq_top]\n",
    "    counts = [counts for _, counts in freq_top]\n",
    "    \n",
    "    plt.bar(words, counts)\n",
    "    plt.title(f\"{CATEGORY} SINIFINDAKI EN SIK GECEN 15 KELIME\")\n",
    "    plt.rcParams['figure.figsize'] = (20,5)\n",
    "    plt.ylabel(\"Frekans\")\n",
    "    plt.xlabel(\"Kelimeler\")\n",
    "    plt.show()\n",
    "\n",
    "    return freq_top"
   ]
  },
  {
   "cell_type": "code",
   "execution_count": 232,
   "id": "19656f38",
   "metadata": {},
   "outputs": [
    {
     "data": {
      "image/png": "[encoded data removed]",
      "text/plain": [
       "<Figure size 2000x500 with 1 Axes>"
      ]
     },
     "metadata": {},
     "output_type": "display_data"
    }
   ],
   "source": [
    "normal_freq = word_freq('Normal', df)"
   ]
  },
  {
   "cell_type": "code",
   "execution_count": 233,
   "id": "7ed84518",
   "metadata": {},
   "outputs": [
    {
     "data": {
      "image/png": "[encoded data removed]",
      "text/plain": [
       "<Figure size 2000x500 with 1 Axes>"
      ]
     },
     "metadata": {},
     "output_type": "display_data"
    }
   ],
   "source": [
    "spam_freq = word_freq('Spam', df)"
   ]
  },
  {
   "cell_type": "code",
   "execution_count": 234,
   "id": "e39326cf",
   "metadata": {},
   "outputs": [],
   "source": [
    "le = LabelEncoder().fit(df[\"label\"])\n",
    "le_nm = dict(zip(le.classes_, le.transform(le.classes_)))\n",
    "df[\"label\"] = df[\"label\"].apply(lambda x: le_nm[x])"
   ]
  },
  {
   "cell_type": "code",
   "execution_count": 235,
   "id": "8edb39ab",
   "metadata": {},
   "outputs": [
    {
     "data": {
      "text/html": [
       "<div>\n",
       "<style scoped>\n",
       "    .dataframe tbody tr th:only-of-type {\n",
       "        vertical-align: middle;\n",
       "    }\n",
       "\n",
       "    .dataframe tbody tr th {\n",
       "        vertical-align: top;\n",
       "    }\n",
       "\n",
       "    .dataframe thead th {\n",
       "        text-align: right;\n",
       "    }\n",
       "</style>\n",
       "<table border=\"1\" class=\"dataframe\">\n",
       "  <thead>\n",
       "    <tr style=\"text-align: right;\">\n",
       "      <th></th>\n",
       "      <th>text</th>\n",
       "      <th>label</th>\n",
       "      <th>length</th>\n",
       "    </tr>\n",
       "  </thead>\n",
       "  <tbody>\n",
       "    <tr>\n",
       "      <th>0</th>\n",
       "      <td>125 lira</td>\n",
       "      <td>0</td>\n",
       "      <td>8</td>\n",
       "    </tr>\n",
       "    <tr>\n",
       "      <th>1</th>\n",
       "      <td>Baskanin aksam toplantısi fenaymis</td>\n",
       "      <td>0</td>\n",
       "      <td>37</td>\n",
       "    </tr>\n",
       "    <tr>\n",
       "      <th>2</th>\n",
       "      <td>Bilal yalçnlara zaman gidiyoruz</td>\n",
       "      <td>0</td>\n",
       "      <td>35</td>\n",
       "    </tr>\n",
       "    <tr>\n",
       "      <th>3</th>\n",
       "      <td>BiP mesajlarimi aninda eglenceli gonderiyorum ...</td>\n",
       "      <td>1</td>\n",
       "      <td>99</td>\n",
       "    </tr>\n",
       "    <tr>\n",
       "      <th>4</th>\n",
       "      <td>DIGITURKTEN FIRSAT SiZE OZEL YIL SONUNA KADAR ...</td>\n",
       "      <td>1</td>\n",
       "      <td>157</td>\n",
       "    </tr>\n",
       "    <tr>\n",
       "      <th>5</th>\n",
       "      <td>İyi dokuz eylül iyidir arşgör falan kovala</td>\n",
       "      <td>0</td>\n",
       "      <td>49</td>\n",
       "    </tr>\n",
       "    <tr>\n",
       "      <th>6</th>\n",
       "      <td>İyiyim teşekkürler oturuyoruz nazarda arkadaşl...</td>\n",
       "      <td>0</td>\n",
       "      <td>106</td>\n",
       "    </tr>\n",
       "    <tr>\n",
       "      <th>7</th>\n",
       "      <td>Kapatamıyorun ayarlara girmem lazım</td>\n",
       "      <td>0</td>\n",
       "      <td>39</td>\n",
       "    </tr>\n",
       "    <tr>\n",
       "      <th>8</th>\n",
       "      <td>Menüye girsem görünür</td>\n",
       "      <td>0</td>\n",
       "      <td>34</td>\n",
       "    </tr>\n",
       "    <tr>\n",
       "      <th>9</th>\n",
       "      <td>Önemli değil hocam iyi akşamlar</td>\n",
       "      <td>0</td>\n",
       "      <td>35</td>\n",
       "    </tr>\n",
       "  </tbody>\n",
       "</table>\n",
       "</div>"
      ],
      "text/plain": [
       "                                                text  label  length\n",
       "0                                           125 lira      0       8\n",
       "1                 Baskanin aksam toplantısi fenaymis      0      37\n",
       "2                    Bilal yalçnlara zaman gidiyoruz      0      35\n",
       "3  BiP mesajlarimi aninda eglenceli gonderiyorum ...      1      99\n",
       "4  DIGITURKTEN FIRSAT SiZE OZEL YIL SONUNA KADAR ...      1     157\n",
       "5         İyi dokuz eylül iyidir arşgör falan kovala      0      49\n",
       "6  İyiyim teşekkürler oturuyoruz nazarda arkadaşl...      0     106\n",
       "7                Kapatamıyorun ayarlara girmem lazım      0      39\n",
       "8                              Menüye girsem görünür      0      34\n",
       "9                    Önemli değil hocam iyi akşamlar      0      35"
      ]
     },
     "execution_count": 235,
     "metadata": {},
     "output_type": "execute_result"
    }
   ],
   "source": [
    "df.head(10)"
   ]
  },
  {
   "cell_type": "code",
   "execution_count": 249,
   "id": "99094058",
   "metadata": {},
   "outputs": [],
   "source": [
    "X = df['text']\n",
    "y = df['label']\n",
    "\n",
    "vectorizer = TfidfVectorizer()\n",
    "X_vec = vectorizer.fit_transform(X)\n",
    "\n",
    "X_train, X_test, y_train, y_test = train_test_split(X_vec, y, test_size=0.2, random_state=4242)"
   ]
  },
  {
   "cell_type": "markdown",
   "id": "efb5e155",
   "metadata": {},
   "source": [
    "# XGBoost "
   ]
  },
  {
   "cell_type": "code",
   "execution_count": 165,
   "id": "c6976849",
   "metadata": {},
   "outputs": [],
   "source": [
    "xgb_model = XGBClassifier().fit(X_train, y_train)"
   ]
  },
  {
   "cell_type": "code",
   "execution_count": 166,
   "id": "4ede9786",
   "metadata": {},
   "outputs": [
    {
     "data": {
      "text/plain": [
       "0.9726603575184016"
      ]
     },
     "execution_count": 166,
     "metadata": {},
     "output_type": "execute_result"
    }
   ],
   "source": [
    "y_pred = xgb_model.predict(X_test)\n",
    "accuracy_score(y_test, y_pred)"
   ]
  },
  {
   "cell_type": "code",
   "execution_count": null,
   "id": "145dde28",
   "metadata": {},
   "outputs": [],
   "source": [
    "xgb_params = {'n_estimators': [100, 250, 500],\n",
    "              'subsample': [0.8, 1.0],\n",
    "              'max_depth': [3, 5, 10],\n",
    "              'learning_rate': [0.01, 0.1, 0.2],\n",
    "}\n",
    "xgb_model = XGBClassifier()\n",
    "xgb_cv_model = GridSearchCV(xgb_model, xgb_params, cv=10, n_jobs=-1).fit(X_train, y_train)\n",
    "xgb_cv_model.best_params_"
   ]
  },
  {
   "cell_type": "code",
   "execution_count": 175,
   "id": "bfd1bc4f",
   "metadata": {},
   "outputs": [
    {
     "name": "stdout",
     "output_type": "stream",
     "text": [
      "              precision    recall  f1-score   support\n",
      "\n",
      "           0       0.95      0.99      0.97       433\n",
      "           1       0.99      0.96      0.98       518\n",
      "\n",
      "    accuracy                           0.97       951\n",
      "   macro avg       0.97      0.98      0.97       951\n",
      "weighted avg       0.97      0.97      0.97       951\n",
      "\n"
     ]
    }
   ],
   "source": [
    "xgb_tuned = RandomForestClassifier(max_depth=10, max_features=50, n_estimators=500).fit(X_train, y_train)\n",
    "y_pred = xgb_tuned.predict(X_test)\n",
    "print(classification_report(y_test, y_pred))"
   ]
  },
  {
   "cell_type": "markdown",
   "id": "434cafc6",
   "metadata": {},
   "source": [
    "# SVC"
   ]
  },
  {
   "cell_type": "code",
   "execution_count": 177,
   "id": "c90e2b43",
   "metadata": {},
   "outputs": [],
   "source": [
    "xvc_model = SVC().fit(X_train, y_train)"
   ]
  },
  {
   "cell_type": "code",
   "execution_count": 178,
   "id": "a0191867",
   "metadata": {},
   "outputs": [
    {
     "data": {
      "text/plain": [
       "0.9779179810725552"
      ]
     },
     "execution_count": 178,
     "metadata": {},
     "output_type": "execute_result"
    }
   ],
   "source": [
    "y_pred = xvc_model.predict(X_test)\n",
    "accuracy_score(y_test, y_pred)"
   ]
  },
  {
   "cell_type": "code",
   "execution_count": 180,
   "id": "60413daf",
   "metadata": {},
   "outputs": [
    {
     "data": {
      "text/plain": [
       "{'C': 2}"
      ]
     },
     "execution_count": 180,
     "metadata": {},
     "output_type": "execute_result"
    }
   ],
   "source": [
    "svc_params = {\"C\": np.arange(1, 5)}\n",
    "svc = SVC(kernel=\"sigmoid\")\n",
    "svc_cv_model = GridSearchCV(svc, svc_params, cv=10, n_jobs=-1).fit(X_train, y_train)\n",
    "svc_cv_model.best_params_"
   ]
  },
  {
   "cell_type": "code",
   "execution_count": 181,
   "id": "0b6fc368",
   "metadata": {},
   "outputs": [
    {
     "name": "stdout",
     "output_type": "stream",
     "text": [
      "              precision    recall  f1-score   support\n",
      "\n",
      "           0       0.97      0.99      0.98       433\n",
      "           1       0.99      0.98      0.99       518\n",
      "\n",
      "    accuracy                           0.98       951\n",
      "   macro avg       0.98      0.98      0.98       951\n",
      "weighted avg       0.98      0.98      0.98       951\n",
      "\n"
     ]
    }
   ],
   "source": [
    "svc_tuned = SVC(kernel=\"sigmoid\", C=2).fit(X_train, y_train)\n",
    "y_pred = svc_tuned.predict(X_test)\n",
    "print(classification_report(y_test, y_pred))"
   ]
  },
  {
   "cell_type": "markdown",
   "id": "8ffa5c63",
   "metadata": {},
   "source": [
    "# KNeigbors"
   ]
  },
  {
   "cell_type": "code",
   "execution_count": 182,
   "id": "0b53b629",
   "metadata": {},
   "outputs": [],
   "source": [
    "knn_model = KNeighborsClassifier().fit(X_train, y_train)"
   ]
  },
  {
   "cell_type": "code",
   "execution_count": 183,
   "id": "927c1be3",
   "metadata": {},
   "outputs": [
    {
     "data": {
      "text/plain": [
       "0.9221871713985279"
      ]
     },
     "execution_count": 183,
     "metadata": {},
     "output_type": "execute_result"
    }
   ],
   "source": [
    "y_pred = knn_model.predict(X_test)\n",
    "accuracy_score(y_test, y_pred)"
   ]
  },
  {
   "cell_type": "code",
   "execution_count": 184,
   "id": "586f47b3",
   "metadata": {},
   "outputs": [
    {
     "data": {
      "text/plain": [
       "{'n_neighbors': 7}"
      ]
     },
     "execution_count": 184,
     "metadata": {},
     "output_type": "execute_result"
    }
   ],
   "source": [
    "knn_params = {\"n_neighbors\": np.arange(1, 100)}\n",
    "knn = KNeighborsClassifier()\n",
    "knn_cv_model = GridSearchCV(knn, knn_params, cv=10).fit(X_train, y_train)\n",
    "knn_cv_model.best_params_"
   ]
  },
  {
   "cell_type": "code",
   "execution_count": 187,
   "id": "c48155e1",
   "metadata": {},
   "outputs": [
    {
     "name": "stdout",
     "output_type": "stream",
     "text": [
      "              precision    recall  f1-score   support\n",
      "\n",
      "           0       0.92      0.94      0.93       433\n",
      "           1       0.95      0.93      0.94       518\n",
      "\n",
      "    accuracy                           0.94       951\n",
      "   macro avg       0.93      0.94      0.94       951\n",
      "weighted avg       0.94      0.94      0.94       951\n",
      "\n"
     ]
    }
   ],
   "source": [
    "knn_tuned = KNeighborsClassifier(n_neighbors=7).fit(X_train, y_train)\n",
    "y_pred = knn_tuned.predict(X_test)\n",
    "print(classification_report(y_test, y_pred))"
   ]
  },
  {
   "cell_type": "markdown",
   "id": "ce812f99",
   "metadata": {},
   "source": [
    "# Logistic Regression"
   ]
  },
  {
   "cell_type": "code",
   "execution_count": 188,
   "id": "b1e6950f",
   "metadata": {},
   "outputs": [],
   "source": [
    "logistic_model = LogisticRegression(solver=\"liblinear\").fit(X_train, y_train)"
   ]
  },
  {
   "cell_type": "code",
   "execution_count": 189,
   "id": "a1acdca0",
   "metadata": {},
   "outputs": [
    {
     "data": {
      "text/plain": [
       "0.9737118822292324"
      ]
     },
     "execution_count": 189,
     "metadata": {},
     "output_type": "execute_result"
    }
   ],
   "source": [
    "y_pred = logistic_model.predict(X_test)\n",
    "accuracy_score(y_test, y_pred)"
   ]
  },
  {
   "cell_type": "code",
   "execution_count": 190,
   "id": "3f99d94a",
   "metadata": {},
   "outputs": [
    {
     "data": {
      "text/plain": [
       "{'penalty': 'l2'}"
      ]
     },
     "execution_count": 190,
     "metadata": {},
     "output_type": "execute_result"
    }
   ],
   "source": [
    "logistic_params = {\"penalty\": [\"l1\", \"l2\"]}\n",
    "logistic_model = LogisticRegression(solver=\"liblinear\")\n",
    "logistic_cv_model = GridSearchCV(logistic_model, logistic_params, cv=10).fit(X_train, y_train)\n",
    "logistic_cv_model.best_params_"
   ]
  },
  {
   "cell_type": "code",
   "execution_count": 191,
   "id": "32fcc275",
   "metadata": {},
   "outputs": [
    {
     "name": "stdout",
     "output_type": "stream",
     "text": [
      "              precision    recall  f1-score   support\n",
      "\n",
      "           0       0.95      1.00      0.97       433\n",
      "           1       1.00      0.95      0.98       518\n",
      "\n",
      "    accuracy                           0.97       951\n",
      "   macro avg       0.97      0.98      0.97       951\n",
      "weighted avg       0.97      0.97      0.97       951\n",
      "\n"
     ]
    }
   ],
   "source": [
    "logistic_tuned = LogisticRegression(solver=\"liblinear\", penalty=\"l2\").fit(X_train, y_train)\n",
    "y_pred = logistic_tuned.predict(X_test)\n",
    "print(classification_report(y_test, y_pred))"
   ]
  },
  {
   "cell_type": "markdown",
   "id": "ce8b7f46",
   "metadata": {},
   "source": [
    "# DecisionTree"
   ]
  },
  {
   "cell_type": "code",
   "execution_count": 192,
   "id": "fb1ed5a7",
   "metadata": {},
   "outputs": [],
   "source": [
    "cart_model = DecisionTreeClassifier().fit(X_train, y_train)"
   ]
  },
  {
   "cell_type": "code",
   "execution_count": 193,
   "id": "462485b2",
   "metadata": {},
   "outputs": [
    {
     "data": {
      "text/plain": [
       "0.9652996845425867"
      ]
     },
     "execution_count": 193,
     "metadata": {},
     "output_type": "execute_result"
    }
   ],
   "source": [
    "y_pred = cart_model.predict(X_test)\n",
    "accuracy_score(y_test, y_pred)"
   ]
  },
  {
   "cell_type": "code",
   "execution_count": 194,
   "id": "4248c9f9",
   "metadata": {},
   "outputs": [
    {
     "data": {
      "text/plain": [
       "{'max_depth': 4, 'min_samples_split': 10}"
      ]
     },
     "execution_count": 194,
     "metadata": {},
     "output_type": "execute_result"
    }
   ],
   "source": [
    "cart_params = {\"max_depth\": range(1, 5), \"min_samples_split\": list(range(2, 20))}\n",
    "cart = DecisionTreeClassifier()\n",
    "cart_cv_model = GridSearchCV(cart, cart_params, cv=10, n_jobs=-1).fit(X_train, y_train)\n",
    "cart_cv_model.best_params_"
   ]
  },
  {
   "cell_type": "code",
   "execution_count": 195,
   "id": "9ff9be23",
   "metadata": {},
   "outputs": [
    {
     "name": "stdout",
     "output_type": "stream",
     "text": [
      "              precision    recall  f1-score   support\n",
      "\n",
      "           0       0.76      0.99      0.86       433\n",
      "           1       0.99      0.74      0.85       518\n",
      "\n",
      "    accuracy                           0.85       951\n",
      "   macro avg       0.88      0.87      0.85       951\n",
      "weighted avg       0.89      0.85      0.85       951\n",
      "\n"
     ]
    }
   ],
   "source": [
    "cart_tuned = DecisionTreeClassifier(max_depth=4, min_samples_split=10).fit(X_train, y_train)\n",
    "y_pred = cart_tuned.predict(X_test)\n",
    "print(classification_report(y_test, y_pred))"
   ]
  },
  {
   "cell_type": "markdown",
   "id": "c54334b4",
   "metadata": {},
   "source": [
    "# Random Forest"
   ]
  },
  {
   "cell_type": "code",
   "execution_count": 196,
   "id": "a484ecb6",
   "metadata": {},
   "outputs": [],
   "source": [
    "rf_model = RandomForestClassifier().fit(X_train, y_train)"
   ]
  },
  {
   "cell_type": "code",
   "execution_count": 197,
   "id": "cc7aa769",
   "metadata": {},
   "outputs": [
    {
     "data": {
      "text/plain": [
       "0.9789695057833859"
      ]
     },
     "execution_count": 197,
     "metadata": {},
     "output_type": "execute_result"
    }
   ],
   "source": [
    "y_pred = rf_model.predict(X_test)\n",
    "accuracy_score(y_test, y_pred)"
   ]
  },
  {
   "cell_type": "code",
   "execution_count": 202,
   "id": "2aed1bbf",
   "metadata": {},
   "outputs": [
    {
     "data": {
      "text/plain": [
       "{'max_depth': 4, 'max_features': 3, 'n_estimators': 35}"
      ]
     },
     "execution_count": 202,
     "metadata": {},
     "output_type": "execute_result"
    }
   ],
   "source": [
    "rf_params = {'max_depth': list(range(1, 5)), 'max_features': [1, 2, 3], 'n_estimators': [25, 35, 50]}\n",
    "rf_model = RandomForestClassifier()\n",
    "rf_cv_model = GridSearchCV(rf_model, rf_params, cv=10, n_jobs=-1).fit(X_train, y_train)\n",
    "rf_cv_model.best_params_"
   ]
  },
  {
   "cell_type": "code",
   "execution_count": 204,
   "id": "4ab4dace",
   "metadata": {},
   "outputs": [
    {
     "name": "stdout",
     "output_type": "stream",
     "text": [
      "              precision    recall  f1-score   support\n",
      "\n",
      "           0       1.00      0.00      0.01       433\n",
      "           1       0.55      1.00      0.71       518\n",
      "\n",
      "    accuracy                           0.55       951\n",
      "   macro avg       0.77      0.50      0.36       951\n",
      "weighted avg       0.75      0.55      0.39       951\n",
      "\n"
     ]
    }
   ],
   "source": [
    "rf_tuned = RandomForestClassifier(max_depth= 4, max_features= 3, n_estimators= 35).fit(X_train, y_train)\n",
    "y_pred = rf_tuned.predict(X_test)\n",
    "print(classification_report(y_test, y_pred))"
   ]
  },
  {
   "cell_type": "code",
   "execution_count": 237,
   "id": "308a89a1",
   "metadata": {},
   "outputs": [
    {
     "data": {
      "text/html": [
       "<style>#sk-container-id-3 {color: black;background-color: white;}#sk-container-id-3 pre{padding: 0;}#sk-container-id-3 div.sk-toggleable {background-color: white;}#sk-container-id-3 label.sk-toggleable__label {cursor: pointer;display: block;width: 100%;margin-bottom: 0;padding: 0.3em;box-sizing: border-box;text-align: center;}#sk-container-id-3 label.sk-toggleable__label-arrow:before {content: \"▸\";float: left;margin-right: 0.25em;color: #696969;}#sk-container-id-3 label.sk-toggleable__label-arrow:hover:before {color: black;}#sk-container-id-3 div.sk-estimator:hover label.sk-toggleable__label-arrow:before {color: black;}#sk-container-id-3 div.sk-toggleable__content {max-height: 0;max-width: 0;overflow: hidden;text-align: left;background-color: #f0f8ff;}#sk-container-id-3 div.sk-toggleable__content pre {margin: 0.2em;color: black;border-radius: 0.25em;background-color: #f0f8ff;}#sk-container-id-3 input.sk-toggleable__control:checked~div.sk-toggleable__content {max-height: 200px;max-width: 100%;overflow: auto;}#sk-container-id-3 input.sk-toggleable__control:checked~label.sk-toggleable__label-arrow:before {content: \"▾\";}#sk-container-id-3 div.sk-estimator input.sk-toggleable__control:checked~label.sk-toggleable__label {background-color: #d4ebff;}#sk-container-id-3 div.sk-label input.sk-toggleable__control:checked~label.sk-toggleable__label {background-color: #d4ebff;}#sk-container-id-3 input.sk-hidden--visually {border: 0;clip: rect(1px 1px 1px 1px);clip: rect(1px, 1px, 1px, 1px);height: 1px;margin: -1px;overflow: hidden;padding: 0;position: absolute;width: 1px;}#sk-container-id-3 div.sk-estimator {font-family: monospace;background-color: #f0f8ff;border: 1px dotted black;border-radius: 0.25em;box-sizing: border-box;margin-bottom: 0.5em;}#sk-container-id-3 div.sk-estimator:hover {background-color: #d4ebff;}#sk-container-id-3 div.sk-parallel-item::after {content: \"\";width: 100%;border-bottom: 1px solid gray;flex-grow: 1;}#sk-container-id-3 div.sk-label:hover label.sk-toggleable__label {background-color: #d4ebff;}#sk-container-id-3 div.sk-serial::before {content: \"\";position: absolute;border-left: 1px solid gray;box-sizing: border-box;top: 0;bottom: 0;left: 50%;z-index: 0;}#sk-container-id-3 div.sk-serial {display: flex;flex-direction: column;align-items: center;background-color: white;padding-right: 0.2em;padding-left: 0.2em;position: relative;}#sk-container-id-3 div.sk-item {position: relative;z-index: 1;}#sk-container-id-3 div.sk-parallel {display: flex;align-items: stretch;justify-content: center;background-color: white;position: relative;}#sk-container-id-3 div.sk-item::before, #sk-container-id-3 div.sk-parallel-item::before {content: \"\";position: absolute;border-left: 1px solid gray;box-sizing: border-box;top: 0;bottom: 0;left: 50%;z-index: -1;}#sk-container-id-3 div.sk-parallel-item {display: flex;flex-direction: column;z-index: 1;position: relative;background-color: white;}#sk-container-id-3 div.sk-parallel-item:first-child::after {align-self: flex-end;width: 50%;}#sk-container-id-3 div.sk-parallel-item:last-child::after {align-self: flex-start;width: 50%;}#sk-container-id-3 div.sk-parallel-item:only-child::after {width: 0;}#sk-container-id-3 div.sk-dashed-wrapped {border: 1px dashed gray;margin: 0 0.4em 0.5em 0.4em;box-sizing: border-box;padding-bottom: 0.4em;background-color: white;}#sk-container-id-3 div.sk-label label {font-family: monospace;font-weight: bold;display: inline-block;line-height: 1.2em;}#sk-container-id-3 div.sk-label-container {text-align: center;}#sk-container-id-3 div.sk-container {/* jupyter's `normalize.less` sets `[hidden] { display: none; }` but bootstrap.min.css set `[hidden] { display: none !important; }` so we also need the `!important` here to be able to override the default hidden behavior on the sphinx rendered scikit-learn.org. See: https://github.com/scikit-learn/scikit-learn/issues/21755 */display: inline-block !important;position: relative;}#sk-container-id-3 div.sk-text-repr-fallback {display: none;}</style><div id=\"sk-container-id-3\" class=\"sk-top-container\"><div class=\"sk-text-repr-fallback\"><pre>SVC(C=2, kernel=&#x27;sigmoid&#x27;)</pre><b>In a Jupyter environment, please rerun this cell to show the HTML representation or trust the notebook. <br />On GitHub, the HTML representation is unable to render, please try loading this page with nbviewer.org.</b></div><div class=\"sk-container\" hidden><div class=\"sk-item\"><div class=\"sk-estimator sk-toggleable\"><input class=\"sk-toggleable__control sk-hidden--visually\" id=\"sk-estimator-id-3\" type=\"checkbox\" checked><label for=\"sk-estimator-id-3\" class=\"sk-toggleable__label sk-toggleable__label-arrow\">SVC</label><div class=\"sk-toggleable__content\"><pre>SVC(C=2, kernel=&#x27;sigmoid&#x27;)</pre></div></div></div></div></div>"
      ],
      "text/plain": [
       "SVC(C=2, kernel='sigmoid')"
      ]
     },
     "execution_count": 237,
     "metadata": {},
     "output_type": "execute_result"
    }
   ],
   "source": [
    "joblib.dump(svc_tuned, 'svc_tuned.pkl')\n",
    "best = joblib.load('svc_tuned.pkl')\n",
    "best"
   ]
  },
  {
   "cell_type": "code",
   "execution_count": 218,
   "id": "f8b6bf62",
   "metadata": {},
   "outputs": [],
   "source": [
    "vectorizer = TfidfVectorizer()\n",
    "X_vec = vectorizer.fit_transform(X)\n",
    "\n",
    "def pred(model, text):\n",
    "    res = \"SPAM\" if model.predict(vectorizer.transform([text]))[0] == 1 else \"NORMAL\"\n",
    "    return res"
   ]
  },
  {
   "cell_type": "code",
   "execution_count": 219,
   "id": "83cd0719",
   "metadata": {},
   "outputs": [
    {
     "data": {
      "text/plain": [
       "'SPAM'"
      ]
     },
     "execution_count": 219,
     "metadata": {},
     "output_type": "execute_result"
    }
   ],
   "source": [
    "pred(best, \"%25'ye varan aa aayaz indiaaarimi adL yaz koleksiyonunda basladi!\")"
   ]
  },
  {
   "cell_type": "code",
   "execution_count": 250,
   "id": "9b786a1d",
   "metadata": {},
   "outputs": [],
   "source": [
    "pickle.dump(vectorizer, open(\"tfidf.pickle\", \"wb\"))"
   ]
  },
  {
   "cell_type": "code",
   "execution_count": 251,
   "id": "29c05b15",
   "metadata": {},
   "outputs": [],
   "source": [
    "file = open(\"tfidf.pickle\",\"rb\")\n",
    "vectorizer2 = pickle.load(file)"
   ]
  },
  {
   "cell_type": "code",
   "execution_count": 252,
   "id": "eae92a0e",
   "metadata": {},
   "outputs": [
    {
     "name": "stdout",
     "output_type": "stream",
     "text": [
      "SPAM\n"
     ]
    }
   ],
   "source": [
    "res2 = \"SPAM\" if best.predict(vectorizer2.transform([text]))[0] == 1 else \"NORMAL\"\n",
    "print(res2)"
   ]
  },
  {
   "cell_type": "code",
   "execution_count": null,
   "id": "f6026ab2",
   "metadata": {},
   "outputs": [],
   "source": []
  }
 ],
 "metadata": {
  "kernelspec": {
   "display_name": "Python 3 (ipykernel)",
   "language": "python",
   "name": "python3"
  },
  "language_info": {
   "codemirror_mode": {
    "name": "ipython",
    "version": 3
   },
   "file_extension": ".py",
   "mimetype": "text/x-python",
   "name": "python",
   "nbconvert_exporter": "python",
   "pygments_lexer": "ipython3",
   "version": "3.11.2"
  }
 },
 "nbformat": 4,
 "nbformat_minor": 5
}
